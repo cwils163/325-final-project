{
 "cells": [
  {
   "cell_type": "code",
   "execution_count": null,
   "metadata": {},
   "outputs": [],
   "source": [
    "import pandas as pd"
   ]
  },
  {
   "cell_type": "markdown",
   "metadata": {},
   "source": [
    "Code to get dehydrated dataset from list of work ids, will have all features of og dataset"
   ]
  },
  {
   "cell_type": "code",
   "execution_count": null,
   "metadata": {},
   "outputs": [],
   "source": [
    "# CHANGE THIS DEPENDING ON DATASET YOU'RE MAKING\n",
    "file_name = 'AO3_1'\n",
    "\n",
    "w_ids = []\n",
    "\n",
    "with open(f'{file_name}.txt', mode='r', encoding='utf-8') as inf:\n",
    "    for line in inf:\n",
    "        w_ids.append(line)\n",
    "\n",
    "df = pd.DataFrame()\n",
    "with open('webis-trigger-warning-corpus-dehydrated.jsonl', mode='r', encoding='utf-8') as inf:\n",
    "    df = pd.read_json(inf, lines=True)\n",
    "\n",
    "with open(f'full_{file_name}.jsonl', 'w', encoding='utf-8') as of:\n",
    "    for wid in w_ids:\n",
    "        of.write(df.query(f'work_id == {wid}').to_json(orient='records', lines=True, force_ascii=False))"
   ]
  },
  {
   "cell_type": "markdown",
   "metadata": {},
   "source": [
    "Code to take out unwanted features to get final dehydrated dataset"
   ]
  },
  {
   "cell_type": "code",
   "execution_count": null,
   "metadata": {},
   "outputs": [],
   "source": [
    "# CHANGE DEPENDING ON WHICH FILE YOU'RE WORKING ON\n",
    "file_name = 'AO3_1'\n",
    "\n",
    "with open(f'full_{file_name}.jsonl', mode='r', encoding='utf-8') as inf:\n",
    "    df = pd.read_json(inf, lines=True)\n",
    "\n",
    "wids = df['work_id'].values\n",
    "warnings = df['warnings_coarse_open'].values\n",
    "text = df['text'].values\n",
    "\n",
    "dict = {'work_id': wids, 'warnings_coarse_open': warnings, 'text': text}\n",
    "new_df = pd.DataFrame(dict)\n",
    "\n",
    "with open(f'dehydrated_{file_name}.jsonl', 'w', encoding='utf-8') as f:\n",
    "    f.write(new_df.to_json(orient='records', lines=True, force_ascii=False))"
   ]
  }
 ],
 "metadata": {
  "kernelspec": {
   "display_name": "cs325",
   "language": "python",
   "name": "python3"
  },
  "language_info": {
   "name": "python",
   "version": "3.12.5"
  }
 },
 "nbformat": 4,
 "nbformat_minor": 2
}
